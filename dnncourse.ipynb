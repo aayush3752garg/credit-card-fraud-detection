{
 "cells": [
  {
   "cell_type": "code",
   "execution_count": 2,
   "id": "3b99d348",
   "metadata": {},
   "outputs": [],
   "source": [
    "import tensorflow as tf\n",
    "from tensorflow.keras.models import Sequential\n",
    "from tensorflow.keras.layers import Dense\n",
    "from sklearn.model_selection import train_test_split\n",
    "from sklearn.preprocessing import StandardScaler\n",
    "from sklearn.datasets import load_iris\n",
    "\n",
    "iris = load_iris()\n",
    "                                                                                            "
   ]
  },
  {
   "cell_type": "code",
   "execution_count": 3,
   "id": "12c071b8",
   "metadata": {},
   "outputs": [
    {
     "data": {
      "text/plain": [
       "(150, 4)"
      ]
     },
     "execution_count": 3,
     "metadata": {},
     "output_type": "execute_result"
    }
   ],
   "source": [
    "iris.data.shape"
   ]
  },
  {
   "cell_type": "code",
   "execution_count": 4,
   "id": "36040224",
   "metadata": {},
   "outputs": [],
   "source": [
    "X_train, X_test, y_train, y_test = train_test_split(iris.data, iris.target, test_size = .2, random_state = 1)"
   ]
  },
  {
   "cell_type": "code",
   "execution_count": 5,
   "id": "8fe2e1cb",
   "metadata": {},
   "outputs": [
    {
     "name": "stdout",
     "output_type": "stream",
     "text": [
      "Model: \"sequential\"\n",
      "_________________________________________________________________\n",
      " Layer (type)                Output Shape              Param #   \n",
      "=================================================================\n",
      " dense (Dense)               (None, 3)                 15        \n",
      "                                                                 \n",
      " dense_1 (Dense)             (None, 3)                 12        \n",
      "                                                                 \n",
      "=================================================================\n",
      "Total params: 27\n",
      "Trainable params: 27\n",
      "Non-trainable params: 0\n",
      "_________________________________________________________________\n"
     ]
    }
   ],
   "source": [
    "model = Sequential([\n",
    "    Dense(units = 3, activation = 'relu', input_shape = (X_train.shape[1],)),\n",
    "    Dense(units = 3, activation = 'softmax')\n",
    "])\n",
    "\n",
    "model.summary()"
   ]
  },
  {
   "cell_type": "code",
   "execution_count": 6,
   "id": "f75b0b65",
   "metadata": {},
   "outputs": [],
   "source": [
    "model.compile(optimizer = 'SGD', loss = 'sparse_categorical_crossentropy', metrics = [\"accuracy\"])"
   ]
  },
  {
   "cell_type": "code",
   "execution_count": 7,
   "id": "3d96bde4",
   "metadata": {
    "scrolled": true
   },
   "outputs": [
    {
     "data": {
      "text/plain": [
       "<keras.callbacks.History at 0x1fefed3ed10>"
      ]
     },
     "execution_count": 7,
     "metadata": {},
     "output_type": "execute_result"
    }
   ],
   "source": [
    "model.fit(X_train, y_train, epochs = 1000, verbose= 0)"
   ]
  },
  {
   "cell_type": "code",
   "execution_count": 8,
   "id": "d02d17e1",
   "metadata": {},
   "outputs": [
    {
     "name": "stdout",
     "output_type": "stream",
     "text": [
      "1/1 [==============================] - 0s 196ms/step\n"
     ]
    }
   ],
   "source": [
    "y = model.predict(X_test)"
   ]
  },
  {
   "cell_type": "code",
   "execution_count": 9,
   "id": "880f3ee0",
   "metadata": {
    "scrolled": true
   },
   "outputs": [
    {
     "data": {
      "text/plain": [
       "array([[9.9989617e-01, 1.0387334e-04, 1.2311514e-15],\n",
       "       [4.2372089e-02, 9.5708132e-01, 5.4659188e-04],\n",
       "       [2.1094654e-03, 9.9541807e-01, 2.4724908e-03],\n",
       "       [9.9967682e-01, 3.2315106e-04, 8.0959314e-14],\n",
       "       [2.8937284e-05, 2.9947722e-01, 7.0049381e-01],\n",
       "       [1.1648801e-03, 9.4908559e-01, 4.9749471e-02],\n",
       "       [1.3137821e-04, 3.4190640e-01, 6.5796226e-01],\n",
       "       [9.9662870e-01, 3.3712427e-03, 6.7330058e-11],\n",
       "       [9.9481380e-01, 5.1861890e-03, 1.3992334e-10],\n",
       "       [3.2066725e-06, 1.9085582e-02, 9.8091114e-01],\n",
       "       [2.5146762e-03, 9.2813629e-01, 6.9349088e-02],\n",
       "       [9.9879140e-01, 1.2086534e-03, 2.2427578e-12],\n",
       "       [2.6263485e-06, 1.8079186e-02, 9.8191822e-01],\n",
       "       [1.7257091e-03, 9.8936814e-01, 8.9060972e-03],\n",
       "       [1.4328526e-03, 8.9567298e-01, 1.0289415e-01],\n",
       "       [9.9790549e-01, 2.0945480e-03, 4.2486185e-11],\n",
       "       [3.8254797e-03, 9.8781455e-01, 8.3600553e-03],\n",
       "       [1.0980577e-03, 6.8774128e-01, 3.1116068e-01],\n",
       "       [9.9737144e-01, 2.6285420e-03, 3.9572035e-12],\n",
       "       [9.9871647e-01, 1.2835512e-03, 1.3851791e-12],\n",
       "       [1.6344914e-03, 7.5600111e-01, 2.4236441e-01],\n",
       "       [7.7306182e-04, 4.8981151e-01, 5.0941545e-01],\n",
       "       [5.7899149e-04, 8.1640887e-01, 1.8301214e-01],\n",
       "       [9.9907482e-01, 9.2516711e-04, 1.5049378e-12],\n",
       "       [1.6272479e-05, 9.5578909e-02, 9.0440482e-01],\n",
       "       [3.1325647e-03, 9.7710085e-01, 1.9766560e-02],\n",
       "       [9.9987745e-01, 1.2249620e-04, 9.7155424e-15],\n",
       "       [9.9926466e-01, 7.3539733e-04, 1.3493305e-12],\n",
       "       [1.4024524e-03, 9.1802400e-01, 8.0573484e-02],\n",
       "       [3.8808565e-05, 7.3629215e-02, 9.2633200e-01]], dtype=float32)"
      ]
     },
     "execution_count": 9,
     "metadata": {},
     "output_type": "execute_result"
    }
   ],
   "source": [
    "y"
   ]
  },
  {
   "cell_type": "code",
   "execution_count": null,
   "id": "c6fc8ea0",
   "metadata": {},
   "outputs": [],
   "source": []
  }
 ],
 "metadata": {
  "kernelspec": {
   "display_name": "Python 3 (ipykernel)",
   "language": "python",
   "name": "python3"
  },
  "language_info": {
   "codemirror_mode": {
    "name": "ipython",
    "version": 3
   },
   "file_extension": ".py",
   "mimetype": "text/x-python",
   "name": "python",
   "nbconvert_exporter": "python",
   "pygments_lexer": "ipython3",
   "version": "3.11.2"
  }
 },
 "nbformat": 4,
 "nbformat_minor": 5
}
